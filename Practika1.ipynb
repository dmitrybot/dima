{
  "nbformat": 4,
  "nbformat_minor": 0,
  "metadata": {
    "colab": {
      "name": "Practika1.ipynb",
      "provenance": [],
      "collapsed_sections": [],
      "authorship_tag": "ABX9TyPKrWksZNblVMcpr9xm/VJm",
      "include_colab_link": true
    },
    "kernelspec": {
      "name": "python3",
      "display_name": "Python 3"
    },
    "language_info": {
      "name": "python"
    },
    "accelerator": "GPU"
  },
  "cells": [
    {
      "cell_type": "markdown",
      "metadata": {
        "id": "view-in-github",
        "colab_type": "text"
      },
      "source": [
        "<a href=\"https://colab.research.google.com/github/dmitrybot/dima/blob/master/Practika1.ipynb\" target=\"_parent\"><img src=\"https://colab.research.google.com/assets/colab-badge.svg\" alt=\"Open In Colab\"/></a>"
      ]
    },
    {
      "cell_type": "code",
      "metadata": {
        "id": "52Tv5Qj0w3oN"
      },
      "source": [
        "import numpy as np"
      ],
      "execution_count": 1,
      "outputs": []
    },
    {
      "cell_type": "code",
      "metadata": {
        "id": "jx4Qa1qCxHNE"
      },
      "source": [
        "A_test = np.array([[1, 2], [3, 5]])\n",
        "b_test = np.array([1, 2])"
      ],
      "execution_count": 2,
      "outputs": []
    },
    {
      "cell_type": "code",
      "metadata": {
        "id": "ppD-NSWzx37p"
      },
      "source": [
        "x_text = np.linalg.solve(A_test, b_test) # решение системы линейных выражений"
      ],
      "execution_count": 3,
      "outputs": []
    },
    {
      "cell_type": "code",
      "metadata": {
        "colab": {
          "base_uri": "https://localhost:8080/"
        },
        "id": "BLU0HytWyGml",
        "outputId": "8ef84f4e-5c49-4039-e741-6e751080611c"
      },
      "source": [
        "x_text"
      ],
      "execution_count": 4,
      "outputs": [
        {
          "output_type": "execute_result",
          "data": {
            "text/plain": [
              "array([-1.,  1.])"
            ]
          },
          "metadata": {},
          "execution_count": 4
        }
      ]
    },
    {
      "cell_type": "code",
      "metadata": {
        "colab": {
          "base_uri": "https://localhost:8080/"
        },
        "id": "UprZmwXsyHeA",
        "outputId": "95d4d932-93e7-4ac1-e9c5-c67e8c58bde0"
      },
      "source": [
        "np.dot(A_test, x_text) # перемножение матриц"
      ],
      "execution_count": 5,
      "outputs": [
        {
          "output_type": "execute_result",
          "data": {
            "text/plain": [
              "array([1., 2.])"
            ]
          },
          "metadata": {},
          "execution_count": 5
        }
      ]
    },
    {
      "cell_type": "code",
      "metadata": {
        "colab": {
          "base_uri": "https://localhost:8080/"
        },
        "id": "o1yC0dMCyaJo",
        "outputId": "f4c7fa0f-526c-4147-8ff8-bc49cc3bbab7"
      },
      "source": [
        "np.allclose(np.dot(A_test, x_text), b_test) # поэлементное сравнение матриц"
      ],
      "execution_count": 6,
      "outputs": [
        {
          "output_type": "execute_result",
          "data": {
            "text/plain": [
              "True"
            ]
          },
          "metadata": {},
          "execution_count": 6
        }
      ]
    },
    {
      "cell_type": "code",
      "metadata": {
        "id": "-n-8Z-viyq5U"
      },
      "source": [
        "n = 1000\n",
        "A = np.random.random([n, n])\n",
        "b = np.random.random([n])"
      ],
      "execution_count": 7,
      "outputs": []
    },
    {
      "cell_type": "code",
      "metadata": {
        "colab": {
          "base_uri": "https://localhost:8080/"
        },
        "id": "iCgXwlovzUKY",
        "outputId": "84a34512-c054-403d-9c1f-3da334f11a70"
      },
      "source": [
        "A.shape"
      ],
      "execution_count": 8,
      "outputs": [
        {
          "output_type": "execute_result",
          "data": {
            "text/plain": [
              "(1000, 1000)"
            ]
          },
          "metadata": {},
          "execution_count": 8
        }
      ]
    },
    {
      "cell_type": "code",
      "metadata": {
        "colab": {
          "base_uri": "https://localhost:8080/"
        },
        "id": "FXWUdk4SzVgZ",
        "outputId": "eb61f234-ad17-42d3-dfe0-3ef5e62885ef"
      },
      "source": [
        "b.shape"
      ],
      "execution_count": 9,
      "outputs": [
        {
          "output_type": "execute_result",
          "data": {
            "text/plain": [
              "(1000,)"
            ]
          },
          "metadata": {},
          "execution_count": 9
        }
      ]
    },
    {
      "cell_type": "code",
      "metadata": {
        "id": "fxcHpMnczl2d"
      },
      "source": [
        "x = np.linalg.solve(A, b)"
      ],
      "execution_count": 10,
      "outputs": []
    },
    {
      "cell_type": "code",
      "metadata": {
        "colab": {
          "base_uri": "https://localhost:8080/"
        },
        "id": "cNKGx3r2zwSF",
        "outputId": "001eb79d-ae53-40f4-f101-9cf06498473f"
      },
      "source": [
        "x.shape"
      ],
      "execution_count": 11,
      "outputs": [
        {
          "output_type": "execute_result",
          "data": {
            "text/plain": [
              "(1000,)"
            ]
          },
          "metadata": {},
          "execution_count": 11
        }
      ]
    },
    {
      "cell_type": "code",
      "metadata": {
        "colab": {
          "base_uri": "https://localhost:8080/"
        },
        "id": "LZ4owJWRzxIQ",
        "outputId": "ce2c67a4-48f8-4035-ff0e-59e76282b654"
      },
      "source": [
        "np.allclose(np.dot(A, x), b)"
      ],
      "execution_count": 12,
      "outputs": [
        {
          "output_type": "execute_result",
          "data": {
            "text/plain": [
              "True"
            ]
          },
          "metadata": {},
          "execution_count": 12
        }
      ]
    },
    {
      "cell_type": "code",
      "metadata": {
        "id": "3_6_6AG6z4AV"
      },
      "source": [
        "n = 10000\n",
        "A_CPU = np.random.random([n, n])\n",
        "b_CPU = np.random.random([n])"
      ],
      "execution_count": 13,
      "outputs": []
    },
    {
      "cell_type": "code",
      "metadata": {
        "colab": {
          "base_uri": "https://localhost:8080/"
        },
        "id": "YcjuL8-30qCw",
        "outputId": "b5a65099-b13c-4bb5-c9f9-e835194ca03c"
      },
      "source": [
        "import time\n",
        "\n",
        "t0 = time.time()\n",
        "x_CPU = np.linalg.solve(A_CPU, b_CPU)\n",
        "print(f\"Your code run time is {time.time() - t0}\")\n"
      ],
      "execution_count": 14,
      "outputs": [
        {
          "output_type": "stream",
          "name": "stdout",
          "text": [
            "Your code run time is 20.582953214645386\n"
          ]
        }
      ]
    },
    {
      "cell_type": "code",
      "metadata": {
        "id": "ltvfH9qh1Pje"
      },
      "source": [
        "import torch"
      ],
      "execution_count": 15,
      "outputs": []
    },
    {
      "cell_type": "code",
      "metadata": {
        "colab": {
          "base_uri": "https://localhost:8080/"
        },
        "id": "dmY14ldk2nhl",
        "outputId": "838f57a5-7d88-4557-dab7-829c46493790"
      },
      "source": [
        "torch.cuda.is_available() # доступна ли видеокарта"
      ],
      "execution_count": 16,
      "outputs": [
        {
          "output_type": "execute_result",
          "data": {
            "text/plain": [
              "True"
            ]
          },
          "metadata": {},
          "execution_count": 16
        }
      ]
    },
    {
      "cell_type": "code",
      "metadata": {
        "colab": {
          "base_uri": "https://localhost:8080/"
        },
        "id": "8U6T0Y0S22nm",
        "outputId": "455c3b9b-c456-424f-9b43-09c9afe46b17"
      },
      "source": [
        "!nvidia-smi # ! - обращенмие к цмд, какая видеокарта"
      ],
      "execution_count": 17,
      "outputs": [
        {
          "output_type": "stream",
          "name": "stdout",
          "text": [
            "Wed Oct 20 08:42:57 2021       \n",
            "+-----------------------------------------------------------------------------+\n",
            "| NVIDIA-SMI 470.74       Driver Version: 460.32.03    CUDA Version: 11.2     |\n",
            "|-------------------------------+----------------------+----------------------+\n",
            "| GPU  Name        Persistence-M| Bus-Id        Disp.A | Volatile Uncorr. ECC |\n",
            "| Fan  Temp  Perf  Pwr:Usage/Cap|         Memory-Usage | GPU-Util  Compute M. |\n",
            "|                               |                      |               MIG M. |\n",
            "|===============================+======================+======================|\n",
            "|   0  Tesla K80           Off  | 00000000:00:04.0 Off |                    0 |\n",
            "| N/A   34C    P8    27W / 149W |      3MiB / 11441MiB |      0%      Default |\n",
            "|                               |                      |                  N/A |\n",
            "+-------------------------------+----------------------+----------------------+\n",
            "                                                                               \n",
            "+-----------------------------------------------------------------------------+\n",
            "| Processes:                                                                  |\n",
            "|  GPU   GI   CI        PID   Type   Process name                  GPU Memory |\n",
            "|        ID   ID                                                   Usage      |\n",
            "|=============================================================================|\n",
            "|  No running processes found                                                 |\n",
            "+-----------------------------------------------------------------------------+\n"
          ]
        }
      ]
    },
    {
      "cell_type": "code",
      "metadata": {
        "colab": {
          "base_uri": "https://localhost:8080/",
          "height": 35
        },
        "id": "DEgD3pTJ3ie3",
        "outputId": "a1d94a6a-e8be-4469-a9e8-0bdcbaebc248"
      },
      "source": [
        "torch.cuda.get_device_name(0) # -1 - CPU, >=0 - GPU"
      ],
      "execution_count": 18,
      "outputs": [
        {
          "output_type": "execute_result",
          "data": {
            "application/vnd.google.colaboratory.intrinsic+json": {
              "type": "string"
            },
            "text/plain": [
              "'Tesla K80'"
            ]
          },
          "metadata": {},
          "execution_count": 18
        }
      ]
    },
    {
      "cell_type": "code",
      "metadata": {
        "id": "19h09YjD38jH"
      },
      "source": [
        "A_GPU = torch.rand([n, n]).cuda()\n",
        "b_GPU = torch.rand([n, 1]).cuda()"
      ],
      "execution_count": 22,
      "outputs": []
    },
    {
      "cell_type": "code",
      "metadata": {
        "colab": {
          "base_uri": "https://localhost:8080/"
        },
        "id": "Wz4oMBma4Klh",
        "outputId": "a9b39755-0b8b-445d-9a81-421856141f9e"
      },
      "source": [
        "A_GPU.get_device()"
      ],
      "execution_count": 23,
      "outputs": [
        {
          "output_type": "execute_result",
          "data": {
            "text/plain": [
              "0"
            ]
          },
          "metadata": {},
          "execution_count": 23
        }
      ]
    },
    {
      "cell_type": "code",
      "metadata": {
        "id": "s-DKYUgA4Z2f"
      },
      "source": [
        "A_CPU = torch.rand([n, n])\n",
        "b_CPU = torch.rand([n, 1])"
      ],
      "execution_count": 24,
      "outputs": []
    },
    {
      "cell_type": "code",
      "metadata": {
        "colab": {
          "base_uri": "https://localhost:8080/"
        },
        "id": "NbXH14io4yOB",
        "outputId": "3d0940c9-3933-4620-a871-0db0d1999b83"
      },
      "source": [
        "A_CPU.get_device()"
      ],
      "execution_count": 25,
      "outputs": [
        {
          "output_type": "execute_result",
          "data": {
            "text/plain": [
              "-1"
            ]
          },
          "metadata": {},
          "execution_count": 25
        }
      ]
    },
    {
      "cell_type": "code",
      "metadata": {
        "colab": {
          "base_uri": "https://localhost:8080/"
        },
        "id": "X9Av0tV_40vv",
        "outputId": "760cfffd-8838-401f-f581-59170c9e3bec"
      },
      "source": [
        "t0 = time.time()\n",
        "x_CPU = torch.solve(b_CPU, A_CPU)\n",
        "print(f\"Your code run time is {time.time() - t0}\")"
      ],
      "execution_count": 26,
      "outputs": [
        {
          "output_type": "stream",
          "name": "stdout",
          "text": [
            "Your code run time is 9.792659282684326\n"
          ]
        },
        {
          "output_type": "stream",
          "name": "stderr",
          "text": [
            "/usr/local/lib/python3.7/dist-packages/ipykernel_launcher.py:2: UserWarning: torch.solve is deprecated in favor of torch.linalg.solveand will be removed in a future PyTorch release.\n",
            "torch.linalg.solve has its arguments reversed and does not return the LU factorization.\n",
            "To get the LU factorization see torch.lu, which can be used with torch.lu_solve or torch.lu_unpack.\n",
            "X = torch.solve(B, A).solution\n",
            "should be replaced with\n",
            "X = torch.linalg.solve(A, B) (Triggered internally at  /pytorch/aten/src/ATen/native/BatchLinearAlgebra.cpp:760.)\n",
            "  \n"
          ]
        }
      ]
    },
    {
      "cell_type": "code",
      "metadata": {
        "colab": {
          "base_uri": "https://localhost:8080/"
        },
        "id": "taeU6trp5HpW",
        "outputId": "9a7902f8-f1a4-4486-a095-2ae026e35d28"
      },
      "source": [
        "t0 = time.time()\n",
        "x_GPU = torch.solve(b_GPU, A_GPU)\n",
        "print(f\"Your code run time is {time.time() - t0}\")"
      ],
      "execution_count": 27,
      "outputs": [
        {
          "output_type": "stream",
          "name": "stdout",
          "text": [
            "Your code run time is 0.7314233779907227\n"
          ]
        }
      ]
    },
    {
      "cell_type": "code",
      "metadata": {
        "id": "g8uaxaeR5VAV"
      },
      "source": [
        "A_GPU_float = torch.rand([n, n], dtype = torch.float64).cuda()\n",
        "b_GPU_float = torch.rand([n, 1], dtype = torch.float64).cuda()"
      ],
      "execution_count": 29,
      "outputs": []
    },
    {
      "cell_type": "code",
      "metadata": {
        "colab": {
          "base_uri": "https://localhost:8080/"
        },
        "id": "b4Ou-twP6auW",
        "outputId": "1fd488ef-f2ff-42bc-da85-70dfc6186047"
      },
      "source": [
        "t0 = time.time()\n",
        "x_GPU = torch.solve(b_GPU_float, A_GPU_float).solution\n",
        "print(f\"Your code run time is {time.time() - t0}\")"
      ],
      "execution_count": 30,
      "outputs": [
        {
          "output_type": "stream",
          "name": "stdout",
          "text": [
            "Your code run time is 1.4405317306518555\n"
          ]
        }
      ]
    },
    {
      "cell_type": "code",
      "metadata": {
        "colab": {
          "base_uri": "https://localhost:8080/"
        },
        "id": "_O__BS3d6so_",
        "outputId": "a833bad1-6bfe-492e-b701-cce9158e8276"
      },
      "source": [
        "x_GPU.get_device()"
      ],
      "execution_count": 31,
      "outputs": [
        {
          "output_type": "execute_result",
          "data": {
            "text/plain": [
              "0"
            ]
          },
          "metadata": {},
          "execution_count": 31
        }
      ]
    },
    {
      "cell_type": "code",
      "metadata": {
        "id": "bb3Q64SF6vPE"
      },
      "source": [
        "x_GPU = x_GPU.cpu()"
      ],
      "execution_count": 33,
      "outputs": []
    },
    {
      "cell_type": "code",
      "metadata": {
        "colab": {
          "base_uri": "https://localhost:8080/"
        },
        "id": "BEGSzfpt6zDV",
        "outputId": "3b394015-53e4-4ace-da8b-9fdc69f78947"
      },
      "source": [
        "x_GPU.get_device()"
      ],
      "execution_count": 34,
      "outputs": [
        {
          "output_type": "execute_result",
          "data": {
            "text/plain": [
              "-1"
            ]
          },
          "metadata": {},
          "execution_count": 34
        }
      ]
    },
    {
      "cell_type": "code",
      "metadata": {
        "id": "O_kV8XxM7R1T"
      },
      "source": [
        ""
      ],
      "execution_count": null,
      "outputs": []
    }
  ]
}